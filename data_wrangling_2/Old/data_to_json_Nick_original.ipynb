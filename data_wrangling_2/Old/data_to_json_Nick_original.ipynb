{
 "cells": [
  {
   "cell_type": "code",
   "execution_count": 10,
   "metadata": {},
   "outputs": [],
   "source": [
    "import pandas as pd\n",
    "import json\n",
    "import numpy as np\n",
    "import os"
   ]
  },
  {
   "cell_type": "code",
   "execution_count": 15,
   "metadata": {},
   "outputs": [
    {
     "name": "stdout",
     "output_type": "stream",
     "text": [
      "Creating data folder at: /Users/nicholasabad/Desktop/workspace/christine-projects/GEM/Retirements Dashboard/public/assets/data2\n"
     ]
    }
   ],
   "source": [
    "path_to_capacity_over_time = \"../raw_data/capacity_over_time.xlsx\"\n",
    "path_to_data_ticker = \"../raw_data/data_ticker.xlsx\"\n",
    "path_to_gap_in_ambition = \"../raw_data/gap_in_ambition.xlsx\"\n",
    "path_to_past_and_planned_retirement = \"../raw_data/past_and_planned_retirements.xlsx\"\n",
    "path_to_planned_retire_groupings = \"../raw_data/planned_retire_groupings.xlsx\"\n",
    "\n",
    "# Define where the public folder is.\n",
    "path_to_public_assets_folder = \"/Users/nicholasabad/Desktop/workspace/christine-projects/GEM/Retirements Dashboard/public/assets\"\n",
    "if os.path.exists(path_to_public_assets_folder):\n",
    "    \n",
    "    # Define where the data folder is.\n",
    "    path_to_data_folder = os.path.join(\n",
    "        path_to_public_assets_folder, \"data2\"\n",
    "    )\n",
    "    \n",
    "    # If the folder does not exist yet, create it.\n",
    "    if not os.path.exists(path_to_data_folder):\n",
    "        os.mkdir(path_to_data_folder)\n",
    "        print(f\"Creating data folder at: {path_to_data_folder}\")\n"
   ]
  },
  {
   "cell_type": "code",
   "execution_count": null,
   "metadata": {},
   "outputs": [],
   "source": [
    "# Function to generate the json files\n",
    "\n",
    "def pandas_df_to_json(\n",
    "    dataframe: pd.DataFrame,\n",
    "    output_path: str,\n",
    "):\n",
    "    our_json_file = []\n",
    "    for idx, row in dataframe.iterrows():\n",
    "        curr_dict = {}\n",
    "        for column in dataframe.columns:\n",
    "            curr_dict[column] = str(row[column])\n",
    "        \n",
    "        our_json_file.append(curr_dict)\n",
    "    \n",
    "    with open(output_path, \"w\", encoding=\"utf-8\") as output:\n",
    "        json.dump(our_json_file, output, indent=4) \n",
    "        \n",
    "    print(f\"Wrote json file to {output_path}\")"
   ]
  },
  {
   "cell_type": "code",
   "execution_count": 17,
   "metadata": {},
   "outputs": [
    {
     "name": "stdout",
     "output_type": "stream",
     "text": [
      "Wrote json file to /Users/nicholasabad/Desktop/workspace/christine-projects/GEM/Retirements Dashboard/public/assets/data2/capacity_over_time.json\n"
     ]
    }
   ],
   "source": [
    "# 1. Capacity over time\n",
    "capacity_over_time = pd.read_excel(path_to_capacity_over_time)\n",
    "capacity_over_time = capacity_over_time.fillna(\"\")\n",
    "\n",
    "pandas_df_to_json(\n",
    "    capacity_over_time, \n",
    "    os.path.join(path_to_data_folder, \"capacity_over_time.json\")\n",
    ")"
   ]
  },
  {
   "cell_type": "code",
   "execution_count": 18,
   "metadata": {},
   "outputs": [
    {
     "name": "stdout",
     "output_type": "stream",
     "text": [
      "Wrote json file to /Users/nicholasabad/Desktop/workspace/christine-projects/GEM/Retirements Dashboard/public/assets/data2/data_ticker.json\n"
     ]
    }
   ],
   "source": [
    "# 2. Data ticker\n",
    "data_ticker = pd.read_excel(path_to_data_ticker)\n",
    "\n",
    "pandas_df_to_json(\n",
    "    data_ticker, \n",
    "    os.path.join(path_to_data_folder, \"data_ticker.json\")\n",
    ")\n"
   ]
  },
  {
   "cell_type": "code",
   "execution_count": 19,
   "metadata": {},
   "outputs": [
    {
     "ename": "KeyError",
     "evalue": "'Values'",
     "output_type": "error",
     "traceback": [
      "\u001b[0;31m---------------------------------------------------------------------------\u001b[0m",
      "\u001b[0;31mKeyError\u001b[0m                                  Traceback (most recent call last)",
      "File \u001b[0;32m~/miniconda3/envs/remind-cancer/lib/python3.11/site-packages/pandas/core/indexes/base.py:3790\u001b[0m, in \u001b[0;36mIndex.get_loc\u001b[0;34m(self, key)\u001b[0m\n\u001b[1;32m   3789\u001b[0m \u001b[38;5;28;01mtry\u001b[39;00m:\n\u001b[0;32m-> 3790\u001b[0m     \u001b[38;5;28;01mreturn\u001b[39;00m \u001b[38;5;28;43mself\u001b[39;49m\u001b[38;5;241;43m.\u001b[39;49m\u001b[43m_engine\u001b[49m\u001b[38;5;241;43m.\u001b[39;49m\u001b[43mget_loc\u001b[49m\u001b[43m(\u001b[49m\u001b[43mcasted_key\u001b[49m\u001b[43m)\u001b[49m\n\u001b[1;32m   3791\u001b[0m \u001b[38;5;28;01mexcept\u001b[39;00m \u001b[38;5;167;01mKeyError\u001b[39;00m \u001b[38;5;28;01mas\u001b[39;00m err:\n",
      "File \u001b[0;32mindex.pyx:152\u001b[0m, in \u001b[0;36mpandas._libs.index.IndexEngine.get_loc\u001b[0;34m()\u001b[0m\n",
      "File \u001b[0;32mindex.pyx:181\u001b[0m, in \u001b[0;36mpandas._libs.index.IndexEngine.get_loc\u001b[0;34m()\u001b[0m\n",
      "File \u001b[0;32mpandas/_libs/hashtable_class_helper.pxi:7080\u001b[0m, in \u001b[0;36mpandas._libs.hashtable.PyObjectHashTable.get_item\u001b[0;34m()\u001b[0m\n",
      "File \u001b[0;32mpandas/_libs/hashtable_class_helper.pxi:7088\u001b[0m, in \u001b[0;36mpandas._libs.hashtable.PyObjectHashTable.get_item\u001b[0;34m()\u001b[0m\n",
      "\u001b[0;31mKeyError\u001b[0m: 'Values'",
      "\nThe above exception was the direct cause of the following exception:\n",
      "\u001b[0;31mKeyError\u001b[0m                                  Traceback (most recent call last)",
      "Cell \u001b[0;32mIn[19], line 5\u001b[0m\n\u001b[1;32m      2\u001b[0m gap_in_ambition \u001b[38;5;241m=\u001b[39m pd\u001b[38;5;241m.\u001b[39mread_excel(path_to_gap_in_ambition)\n\u001b[1;32m      4\u001b[0m \u001b[38;5;28;01mfor\u001b[39;00m idx, row \u001b[38;5;129;01min\u001b[39;00m gap_in_ambition\u001b[38;5;241m.\u001b[39miterrows():\n\u001b[0;32m----> 5\u001b[0m     value \u001b[38;5;241m=\u001b[39m \u001b[43mrow\u001b[49m\u001b[43m[\u001b[49m\u001b[38;5;124;43m\"\u001b[39;49m\u001b[38;5;124;43mValues\u001b[39;49m\u001b[38;5;124;43m\"\u001b[39;49m\u001b[43m]\u001b[49m\n\u001b[1;32m      6\u001b[0m     \u001b[38;5;28;01mif\u001b[39;00m value \u001b[38;5;241m>\u001b[39m\u001b[38;5;241m=\u001b[39m \u001b[38;5;241m10\u001b[39m:\n\u001b[1;32m      7\u001b[0m         new_value \u001b[38;5;241m=\u001b[39m np\u001b[38;5;241m.\u001b[39mround(value, \u001b[38;5;241m0\u001b[39m)\n",
      "File \u001b[0;32m~/miniconda3/envs/remind-cancer/lib/python3.11/site-packages/pandas/core/series.py:1040\u001b[0m, in \u001b[0;36mSeries.__getitem__\u001b[0;34m(self, key)\u001b[0m\n\u001b[1;32m   1037\u001b[0m     \u001b[38;5;28;01mreturn\u001b[39;00m \u001b[38;5;28mself\u001b[39m\u001b[38;5;241m.\u001b[39m_values[key]\n\u001b[1;32m   1039\u001b[0m \u001b[38;5;28;01melif\u001b[39;00m key_is_scalar:\n\u001b[0;32m-> 1040\u001b[0m     \u001b[38;5;28;01mreturn\u001b[39;00m \u001b[38;5;28;43mself\u001b[39;49m\u001b[38;5;241;43m.\u001b[39;49m\u001b[43m_get_value\u001b[49m\u001b[43m(\u001b[49m\u001b[43mkey\u001b[49m\u001b[43m)\u001b[49m\n\u001b[1;32m   1042\u001b[0m \u001b[38;5;66;03m# Convert generator to list before going through hashable part\u001b[39;00m\n\u001b[1;32m   1043\u001b[0m \u001b[38;5;66;03m# (We will iterate through the generator there to check for slices)\u001b[39;00m\n\u001b[1;32m   1044\u001b[0m \u001b[38;5;28;01mif\u001b[39;00m is_iterator(key):\n",
      "File \u001b[0;32m~/miniconda3/envs/remind-cancer/lib/python3.11/site-packages/pandas/core/series.py:1156\u001b[0m, in \u001b[0;36mSeries._get_value\u001b[0;34m(self, label, takeable)\u001b[0m\n\u001b[1;32m   1153\u001b[0m     \u001b[38;5;28;01mreturn\u001b[39;00m \u001b[38;5;28mself\u001b[39m\u001b[38;5;241m.\u001b[39m_values[label]\n\u001b[1;32m   1155\u001b[0m \u001b[38;5;66;03m# Similar to Index.get_value, but we do not fall back to positional\u001b[39;00m\n\u001b[0;32m-> 1156\u001b[0m loc \u001b[38;5;241m=\u001b[39m \u001b[38;5;28;43mself\u001b[39;49m\u001b[38;5;241;43m.\u001b[39;49m\u001b[43mindex\u001b[49m\u001b[38;5;241;43m.\u001b[39;49m\u001b[43mget_loc\u001b[49m\u001b[43m(\u001b[49m\u001b[43mlabel\u001b[49m\u001b[43m)\u001b[49m\n\u001b[1;32m   1158\u001b[0m \u001b[38;5;28;01mif\u001b[39;00m is_integer(loc):\n\u001b[1;32m   1159\u001b[0m     \u001b[38;5;28;01mreturn\u001b[39;00m \u001b[38;5;28mself\u001b[39m\u001b[38;5;241m.\u001b[39m_values[loc]\n",
      "File \u001b[0;32m~/miniconda3/envs/remind-cancer/lib/python3.11/site-packages/pandas/core/indexes/base.py:3797\u001b[0m, in \u001b[0;36mIndex.get_loc\u001b[0;34m(self, key)\u001b[0m\n\u001b[1;32m   3792\u001b[0m     \u001b[38;5;28;01mif\u001b[39;00m \u001b[38;5;28misinstance\u001b[39m(casted_key, \u001b[38;5;28mslice\u001b[39m) \u001b[38;5;129;01mor\u001b[39;00m (\n\u001b[1;32m   3793\u001b[0m         \u001b[38;5;28misinstance\u001b[39m(casted_key, abc\u001b[38;5;241m.\u001b[39mIterable)\n\u001b[1;32m   3794\u001b[0m         \u001b[38;5;129;01mand\u001b[39;00m \u001b[38;5;28many\u001b[39m(\u001b[38;5;28misinstance\u001b[39m(x, \u001b[38;5;28mslice\u001b[39m) \u001b[38;5;28;01mfor\u001b[39;00m x \u001b[38;5;129;01min\u001b[39;00m casted_key)\n\u001b[1;32m   3795\u001b[0m     ):\n\u001b[1;32m   3796\u001b[0m         \u001b[38;5;28;01mraise\u001b[39;00m InvalidIndexError(key)\n\u001b[0;32m-> 3797\u001b[0m     \u001b[38;5;28;01mraise\u001b[39;00m \u001b[38;5;167;01mKeyError\u001b[39;00m(key) \u001b[38;5;28;01mfrom\u001b[39;00m \u001b[38;5;21;01merr\u001b[39;00m\n\u001b[1;32m   3798\u001b[0m \u001b[38;5;28;01mexcept\u001b[39;00m \u001b[38;5;167;01mTypeError\u001b[39;00m:\n\u001b[1;32m   3799\u001b[0m     \u001b[38;5;66;03m# If we have a listlike key, _check_indexing_error will raise\u001b[39;00m\n\u001b[1;32m   3800\u001b[0m     \u001b[38;5;66;03m#  InvalidIndexError. Otherwise we fall through and re-raise\u001b[39;00m\n\u001b[1;32m   3801\u001b[0m     \u001b[38;5;66;03m#  the TypeError.\u001b[39;00m\n\u001b[1;32m   3802\u001b[0m     \u001b[38;5;28mself\u001b[39m\u001b[38;5;241m.\u001b[39m_check_indexing_error(key)\n",
      "\u001b[0;31mKeyError\u001b[0m: 'Values'"
     ]
    }
   ],
   "source": [
    "# 3. Gap in ambition\n",
    "gap_in_ambition = pd.read_excel(path_to_gap_in_ambition)\n",
    "\n",
    "for idx, row in gap_in_ambition.iterrows():\n",
    "    value = row[\"Values\"]\n",
    "    if value >= 10:\n",
    "        new_value = np.round(value, 0)\n",
    "    elif 1 <= value < 10:\n",
    "        new_value = np.round(value, 1)\n",
    "    elif 0 < value < 1:\n",
    "        new_value = np.round(value, 2)\n",
    "    gap_in_ambition.loc[idx, \"Values\"] = new_value\n",
    "    \n",
    "    \n",
    "pandas_df_to_json(\n",
    "    gap_in_ambition, \n",
    "    os.path.join(path_to_data_folder, \"gap_in_ambition.json\")\n",
    ")"
   ]
  },
  {
   "cell_type": "code",
   "execution_count": 16,
   "metadata": {},
   "outputs": [
    {
     "data": {
      "text/html": [
       "<div>\n",
       "<style scoped>\n",
       "    .dataframe tbody tr th:only-of-type {\n",
       "        vertical-align: middle;\n",
       "    }\n",
       "\n",
       "    .dataframe tbody tr th {\n",
       "        vertical-align: top;\n",
       "    }\n",
       "\n",
       "    .dataframe thead th {\n",
       "        text-align: right;\n",
       "    }\n",
       "</style>\n",
       "<table border=\"1\" class=\"dataframe\">\n",
       "  <thead>\n",
       "    <tr style=\"text-align: right;\">\n",
       "      <th></th>\n",
       "      <th>Country</th>\n",
       "      <th>Series</th>\n",
       "      <th>Values</th>\n",
       "      <th>Unnamed: 3</th>\n",
       "      <th>Unnamed: 4</th>\n",
       "      <th>Unnamed: 5</th>\n",
       "      <th>Unnamed: 6</th>\n",
       "    </tr>\n",
       "  </thead>\n",
       "  <tbody>\n",
       "    <tr>\n",
       "      <th>0</th>\n",
       "      <td>Annual average retirements</td>\n",
       "      <td>Global</td>\n",
       "      <td>33.88</td>\n",
       "      <td>NaN</td>\n",
       "      <td>NaN</td>\n",
       "      <td>NaN</td>\n",
       "      <td>NaN</td>\n",
       "    </tr>\n",
       "    <tr>\n",
       "      <th>1</th>\n",
       "      <td>Annual average retirements</td>\n",
       "      <td>G7</td>\n",
       "      <td>19.19</td>\n",
       "      <td>NaN</td>\n",
       "      <td>NaN</td>\n",
       "      <td>NaN</td>\n",
       "      <td>NaN</td>\n",
       "    </tr>\n",
       "    <tr>\n",
       "      <th>2</th>\n",
       "      <td>Annual average retirements</td>\n",
       "      <td>G20</td>\n",
       "      <td>32.98</td>\n",
       "      <td>NaN</td>\n",
       "      <td>NaN</td>\n",
       "      <td>NaN</td>\n",
       "      <td>NaN</td>\n",
       "    </tr>\n",
       "    <tr>\n",
       "      <th>3</th>\n",
       "      <td>Annual average retirements</td>\n",
       "      <td>EU27</td>\n",
       "      <td>6.35</td>\n",
       "      <td>NaN</td>\n",
       "      <td>NaN</td>\n",
       "      <td>NaN</td>\n",
       "      <td>NaN</td>\n",
       "    </tr>\n",
       "    <tr>\n",
       "      <th>4</th>\n",
       "      <td>Annual average retirements</td>\n",
       "      <td>OECD</td>\n",
       "      <td>23.65</td>\n",
       "      <td>NaN</td>\n",
       "      <td>NaN</td>\n",
       "      <td>NaN</td>\n",
       "      <td>NaN</td>\n",
       "    </tr>\n",
       "    <tr>\n",
       "      <th>...</th>\n",
       "      <td>...</td>\n",
       "      <td>...</td>\n",
       "      <td>...</td>\n",
       "      <td>...</td>\n",
       "      <td>...</td>\n",
       "      <td>...</td>\n",
       "      <td>...</td>\n",
       "    </tr>\n",
       "    <tr>\n",
       "      <th>223</th>\n",
       "      <td>Annual average needed for 1.5</td>\n",
       "      <td>Uzbekistan</td>\n",
       "      <td>0.16</td>\n",
       "      <td>NaN</td>\n",
       "      <td>NaN</td>\n",
       "      <td>NaN</td>\n",
       "      <td>NaN</td>\n",
       "    </tr>\n",
       "    <tr>\n",
       "      <th>224</th>\n",
       "      <td>Annual average needed for 1.5</td>\n",
       "      <td>Venezuela</td>\n",
       "      <td>0.00</td>\n",
       "      <td>NaN</td>\n",
       "      <td>NaN</td>\n",
       "      <td>NaN</td>\n",
       "      <td>NaN</td>\n",
       "    </tr>\n",
       "    <tr>\n",
       "      <th>225</th>\n",
       "      <td>Annual average needed for 1.5</td>\n",
       "      <td>Vietnam</td>\n",
       "      <td>1.70</td>\n",
       "      <td>NaN</td>\n",
       "      <td>NaN</td>\n",
       "      <td>NaN</td>\n",
       "      <td>NaN</td>\n",
       "    </tr>\n",
       "    <tr>\n",
       "      <th>226</th>\n",
       "      <td>Annual average needed for 1.5</td>\n",
       "      <td>Zambia</td>\n",
       "      <td>0.02</td>\n",
       "      <td>NaN</td>\n",
       "      <td>NaN</td>\n",
       "      <td>NaN</td>\n",
       "      <td>NaN</td>\n",
       "    </tr>\n",
       "    <tr>\n",
       "      <th>227</th>\n",
       "      <td>Annual average needed for 1.5</td>\n",
       "      <td>Zimbabwe</td>\n",
       "      <td>0.10</td>\n",
       "      <td>NaN</td>\n",
       "      <td>NaN</td>\n",
       "      <td>NaN</td>\n",
       "      <td>NaN</td>\n",
       "    </tr>\n",
       "  </tbody>\n",
       "</table>\n",
       "<p>228 rows × 7 columns</p>\n",
       "</div>"
      ],
      "text/plain": [
       "                           Country      Series  Values  Unnamed: 3  \\\n",
       "0       Annual average retirements      Global   33.88         NaN   \n",
       "1       Annual average retirements          G7   19.19         NaN   \n",
       "2       Annual average retirements         G20   32.98         NaN   \n",
       "3       Annual average retirements        EU27    6.35         NaN   \n",
       "4       Annual average retirements        OECD   23.65         NaN   \n",
       "..                             ...         ...     ...         ...   \n",
       "223  Annual average needed for 1.5  Uzbekistan    0.16         NaN   \n",
       "224  Annual average needed for 1.5   Venezuela    0.00         NaN   \n",
       "225  Annual average needed for 1.5     Vietnam    1.70         NaN   \n",
       "226  Annual average needed for 1.5      Zambia    0.02         NaN   \n",
       "227  Annual average needed for 1.5    Zimbabwe    0.10         NaN   \n",
       "\n",
       "     Unnamed: 4  Unnamed: 5  Unnamed: 6  \n",
       "0           NaN         NaN         NaN  \n",
       "1           NaN         NaN         NaN  \n",
       "2           NaN         NaN         NaN  \n",
       "3           NaN         NaN         NaN  \n",
       "4           NaN         NaN         NaN  \n",
       "..          ...         ...         ...  \n",
       "223         NaN         NaN         NaN  \n",
       "224         NaN         NaN         NaN  \n",
       "225         NaN         NaN         NaN  \n",
       "226         NaN         NaN         NaN  \n",
       "227         NaN         NaN         NaN  \n",
       "\n",
       "[228 rows x 7 columns]"
      ]
     },
     "execution_count": 16,
     "metadata": {},
     "output_type": "execute_result"
    }
   ],
   "source": [
    "gap_in_ambition"
   ]
  },
  {
   "cell_type": "code",
   "execution_count": 14,
   "metadata": {},
   "outputs": [
    {
     "name": "stdout",
     "output_type": "stream",
     "text": [
      "Wrote json file to /Users/nicholasabad/Desktop/workspace/christine-projects/GEM/GCPT-dashboard-Flourish/public/assets/data/past_and_planned_retirement.json\n"
     ]
    }
   ],
   "source": [
    "# 4. path_to_past_and_planned_retirement\n",
    "past_and_planned_retirement = pd.read_csv(path_to_past_and_planned_retirement)\n",
    "pandas_df_to_json(\n",
    "    past_and_planned_retirement, \n",
    "    \"/Users/nicholasabad/Desktop/workspace/christine-projects/GEM/GCPT-dashboard-Flourish/public/assets/data/past_and_planned_retirement.json\"\n",
    ")"
   ]
  },
  {
   "cell_type": "code",
   "execution_count": 15,
   "metadata": {},
   "outputs": [
    {
     "name": "stdout",
     "output_type": "stream",
     "text": [
      "Wrote json file to /Users/nicholasabad/Desktop/workspace/christine-projects/GEM/GCPT-dashboard-Flourish/public/assets/data/planned_retire_groupings.json\n"
     ]
    }
   ],
   "source": [
    "# 5. path_to_planned_retire_groupings\n",
    "planned_retire_groupings = pd.read_csv(path_to_planned_retire_groupings)\n",
    "\n",
    "pandas_df_to_json(\n",
    "    planned_retire_groupings, \n",
    "    \"/Users/nicholasabad/Desktop/workspace/christine-projects/GEM/GCPT-dashboard-Flourish/public/assets/data/planned_retire_groupings.json\"\n",
    ")"
   ]
  },
  {
   "cell_type": "code",
   "execution_count": null,
   "metadata": {},
   "outputs": [],
   "source": []
  }
 ],
 "metadata": {
  "kernelspec": {
   "display_name": "remind-cancer",
   "language": "python",
   "name": "python3"
  },
  "language_info": {
   "codemirror_mode": {
    "name": "ipython",
    "version": 3
   },
   "file_extension": ".py",
   "mimetype": "text/x-python",
   "name": "python",
   "nbconvert_exporter": "python",
   "pygments_lexer": "ipython3",
   "version": "3.11.5"
  }
 },
 "nbformat": 4,
 "nbformat_minor": 2
}
