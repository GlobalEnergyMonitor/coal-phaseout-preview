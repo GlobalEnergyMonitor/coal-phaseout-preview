{
 "cells": [
  {
   "cell_type": "code",
   "execution_count": 12,
   "metadata": {},
   "outputs": [
    {
     "name": "stdout",
     "output_type": "stream",
     "text": [
      "Current working directory: /Users/christines/Desktop/workspace/Phaseout-dashboard\n",
      "Checking public assets folder path: '/Users/christines/Desktop/workspace/Phaseout-dashboard/public/assets'\n",
      "Public assets folder exists!\n",
      "Data folder already exists at: /Users/christines/Desktop/workspace/Phaseout-dashboard/public/assets/data\n"
     ]
    }
   ],
   "source": [
    "import os\n",
    "import pandas as pd\n",
    "import json\n",
    "import numpy as np\n",
    "\n",
    "#data files\n",
    "path_to_capacity_over_time = \"./data_wrangling_2/raw_data/capacity_over_time.xlsx\"\n",
    "path_to_data_ticker = \"./data_wrangling_2/raw_data/data_ticker.xlsx\"\n",
    "path_to_gap_in_ambition = \"./data_wrangling_2/raw_data/gap_in_ambition.xlsx\"\n",
    "path_to_past_and_planned_retirement = \"./data_wrangling_2/raw_data/past_and_planned_retirements.xlsx\"\n",
    "path_to_planned_retire_groupings = \"./data_wrangling_2/raw_data/planned_retire_groupings.xlsx\"\n",
    "\n",
    "#file name headers\n",
    "project_data_dir = \"./data\"\n",
    "year_filename = \"h2_2024\"\n",
    "full_year = \"2024\"\n",
    "year_variable = \"H2 2024\"\n",
    "\n",
    "# Print the current working directory\n",
    "print(f\"Current working directory: {os.getcwd()}\")\n",
    "\n",
    "# Optionally, change the working directory if needed\n",
    "# os.chdir('/path/to/correct/directory')  # Uncomment this line if needed\n",
    "\n",
    "# Define the correct path using absolute or relative paths\n",
    "path_to_public_assets_folder = os.path.join(os.getcwd(), \"public/assets\")\n",
    "\n",
    "print(f\"Checking public assets folder path: {repr(path_to_public_assets_folder)}\")\n",
    "\n",
    "if os.path.isdir(path_to_public_assets_folder):\n",
    "    print(\"Public assets folder exists!\")\n",
    "    path_to_data_folder = os.path.join(path_to_public_assets_folder, \"data\")\n",
    "    \n",
    "    # Check and create the data folder if necessary\n",
    "    if not os.path.exists(path_to_data_folder):\n",
    "        os.makedirs(path_to_data_folder)\n",
    "        print(f\"Creating data folder at: {path_to_data_folder}\")\n",
    "    else:\n",
    "        print(f\"Data folder already exists at: {path_to_data_folder}\")\n",
    "else:\n",
    "    print(f\"Public assets folder does not exist at: {path_to_public_assets_folder}\")"
   ]
  },
  {
   "cell_type": "code",
   "execution_count": 13,
   "metadata": {},
   "outputs": [],
   "source": [
    "# Function to generate the json files\n",
    "\n",
    "def pandas_df_to_json(\n",
    "    dataframe: pd.DataFrame,\n",
    "    output_path: str,\n",
    "):\n",
    "    our_json_file = []\n",
    "    for idx, row in dataframe.iterrows():\n",
    "        curr_dict = {}\n",
    "        for column in dataframe.columns:\n",
    "            curr_dict[column] = str(row[column])\n",
    "        \n",
    "        our_json_file.append(curr_dict)\n",
    "    \n",
    "    with open(output_path, \"w\") as output:\n",
    "        json.dump(our_json_file, output, indent=4) \n",
    "        \n",
    "    print(f\"Wrote json file to {output_path}\")"
   ]
  },
  {
   "cell_type": "code",
   "execution_count": 14,
   "metadata": {},
   "outputs": [
    {
     "name": "stdout",
     "output_type": "stream",
     "text": [
      "Wrote json file to /Users/christines/Desktop/workspace/Phaseout-dashboard/public/assets/data/gcpt_h2_2024_capacity_over_time.json\n"
     ]
    }
   ],
   "source": [
    "# 1. Capacity over time\n",
    "capacity_over_time = pd.read_excel(path_to_capacity_over_time)\n",
    "capacity_over_time = capacity_over_time.fillna(\"\")\n",
    "#capacity_over_time = capacity_over_time.fillna(0)\n",
    "\n",
    "pandas_df_to_json(\n",
    "    capacity_over_time, \n",
    "    os.path.join(path_to_data_folder, f\"gcpt_{year_filename}_capacity_over_time.json\")\n",
    ")"
   ]
  },
  {
   "cell_type": "code",
   "execution_count": 28,
   "metadata": {},
   "outputs": [
    {
     "name": "stdout",
     "output_type": "stream",
     "text": [
      "Wrote json file to /Users/christines/Desktop/workspace/Phaseout-dashboard/public/assets/data/gcpt_h2_2024_data_ticker.json\n"
     ]
    }
   ],
   "source": [
    "# 2. Data ticker\n",
    "\n",
    "data_ticker = pd.read_excel(path_to_data_ticker)\n",
    "\n",
    "data_ticker[\"Pledged coal phaseout year\"] = data_ticker[\"Pledged coal phaseout year\"].fillna(\"None\")\n",
    "data_ticker[\"Pledged coal phaseout year\"] = data_ticker[\"Pledged coal phaseout year\"].astype(str).str.replace(\".0\", \"\")\n",
    "\n",
    "for idx, row in data_ticker.iterrows():\n",
    "    pledged_coal_phaseout_year = row[\"Pledged coal phaseout year\"]\n",
    "    formatted_pledged_coal_phaseout_year = f\"<span>{pledged_coal_phaseout_year}</span><br>Pledged Coal<br>Phaseout Year\"\n",
    "    data_ticker.loc[idx, \"Pledged coal phaseout year\"] = formatted_pledged_coal_phaseout_year\n",
    "    \n",
    "    net_zero_coal_phaseout_year = row[\"1.5C pathway phaseout year\"]\n",
    "    formatted_net_zero_coal_phaseout_year= f\"<span>{net_zero_coal_phaseout_year}</span><br>1.5C Pathway<br>Phaseout Year\"\n",
    "    data_ticker.loc[idx, \"1.5C pathway phaseout year\"] = formatted_net_zero_coal_phaseout_year\n",
    "    \n",
    "    total_operating_capacity = row[\"Total operating capacity (GW)\"]\n",
    "    formatted_total_operating_capacity= f\"<span>{{{{{total_operating_capacity}}}}}</span><br>Total Operating<br>Capacity (GW)\"\n",
    "    data_ticker.loc[idx, \"Total operating capacity (GW)\"] = formatted_total_operating_capacity\n",
    "\n",
    "\n",
    "data_ticker.rename(\n",
    "    {\n",
    "        \"Pledged coal phaseout year\": \"summary_1\",\n",
    "        \"1.5C pathway phaseout year\": \"summary_2\",\n",
    "        \"Total operating capacity (GW)\": \"summary_3\"\n",
    "    },\n",
    "    axis=1,\n",
    "    inplace=True\n",
    ")\n",
    "\n",
    "data_ticker[\"summary_1_color\"] = \"#bf532c\"\n",
    "data_ticker[\"summary_2_color\"] = \"#A8A8A8\"\n",
    "data_ticker[\"summary_3_color\"] = \"#f27d16\"\n",
    "\n",
    "data_ticker = data_ticker[[\"Country\", \"summary_1\", \"summary_1_color\", \"summary_2\", \"summary_2_color\", \"summary_3\", \"summary_3_color\"]]\n",
    "\n",
    "pandas_df_to_json(\n",
    "    data_ticker, \n",
    "    os.path.join(path_to_data_folder, f\"gcpt_{year_filename}_data_ticker.json\")\n",
    ")"
   ]
  },
  {
   "cell_type": "code",
   "execution_count": 27,
   "metadata": {},
   "outputs": [
    {
     "name": "stdout",
     "output_type": "stream",
     "text": [
      "Wrote json file to /Users/christines/Desktop/workspace/Phaseout-dashboard/public/assets/data/gcpt_h2_2024_gap_in_ambition.json\n"
     ]
    }
   ],
   "source": [
    "# 3. Gap in ambition\n",
    "gap_in_ambition = pd.read_excel(path_to_gap_in_ambition)\n",
    "\n",
    "for idx, row in gap_in_ambition.iterrows():\n",
    "    value = row[\"Capacity\"]\n",
    "    if value >= 10:\n",
    "        new_value = np.round(value, 0)  # Round to 0 decimals for values >= 10\n",
    "    elif 1 <= value < 10:\n",
    "        new_value = np.round(value, 1)  # Round to 1 decimal for values between 1 and 10\n",
    "    elif value < 1:  # Handle all values less than 1 (including 0)\n",
    "        new_value = np.round(value, 2)  # Round to 2 decimals for values less than 1\n",
    "    gap_in_ambition.loc[idx, \"Capacity\"] = new_value\n",
    "\n",
    "pandas_df_to_json(\n",
    "    gap_in_ambition, \n",
    "    os.path.join(path_to_data_folder, f\"gcpt_{year_filename}_gap_in_ambition.json\")\n",
    ")"
   ]
  },
  {
   "cell_type": "code",
   "execution_count": 22,
   "metadata": {},
   "outputs": [
    {
     "name": "stdout",
     "output_type": "stream",
     "text": [
      "Wrote json file to /Users/christines/Desktop/workspace/Phaseout-dashboard/public/assets/data/gcpt_h2_2024_past_and_planned_retirement.json\n"
     ]
    }
   ],
   "source": [
    "# 4. path_to_past_and_planned_retirement\n",
    "past_and_planned_retirement = pd.read_excel(path_to_past_and_planned_retirement)\n",
    "pandas_df_to_json(\n",
    "    past_and_planned_retirement, \n",
    "    os.path.join(path_to_data_folder, f\"gcpt_{year_filename}_past_and_planned_retirement.json\")\n",
    ")"
   ]
  },
  {
   "cell_type": "code",
   "execution_count": 23,
   "metadata": {},
   "outputs": [
    {
     "name": "stdout",
     "output_type": "stream",
     "text": [
      "Wrote json file to /Users/christines/Desktop/workspace/Phaseout-dashboard/public/assets/data/gcpt_h2_2024_planned_retire_groupings.json\n"
     ]
    }
   ],
   "source": [
    "# 5. path_to_planned_retire_groupings\n",
    "planned_retire_groupings = pd.read_excel(path_to_planned_retire_groupings)\n",
    "\n",
    "pandas_df_to_json(\n",
    "    planned_retire_groupings, \n",
    "    os.path.join(path_to_data_folder, f\"gcpt_{year_filename}_planned_retire_groupings.json\")\n",
    ")"
   ]
  },
  {
   "cell_type": "code",
   "execution_count": null,
   "metadata": {},
   "outputs": [],
   "source": []
  },
  {
   "cell_type": "code",
   "execution_count": null,
   "metadata": {},
   "outputs": [],
   "source": []
  },
  {
   "cell_type": "code",
   "execution_count": null,
   "metadata": {},
   "outputs": [],
   "source": []
  },
  {
   "cell_type": "code",
   "execution_count": null,
   "metadata": {},
   "outputs": [],
   "source": [
    "### DELETE THIS IF THE ABOVE WORKS ###\n",
    "\n",
    "path_to_capacity_over_time = \"./data_wrangling_2/raw_data/capacity_over_time.xlsx\"\n",
    "path_to_data_ticker = \"./data_wrangling_2/raw_data/data_ticker.xlsx\"\n",
    "path_to_gap_in_ambition = \"./data_wrangling_2/raw_data/gap_in_ambition.xlsx\"\n",
    "path_to_past_and_planned_retirement = \"./data_wrangling_2/raw_data/past_and_planned_retirements.xlsx\"\n",
    "path_to_planned_retire_groupings = \"./data_wrangling_2/raw_data/planned_retire_groupings.xlsx\"\n",
    "\n",
    "\n",
    "#file name headers\n",
    "project_data_dir = \"./data\"\n",
    "year_filename = \"h2_2024\"\n",
    "full_year = \"2024\"\n",
    "year_variable = \"H2 2024\"\n",
    "\n",
    "# Define where the public folder is.\n",
    "path_to_public_assets_folder = \"/Users/christineshearer/Desktop/workspace/Phaseout-dashboard/public/assets\"\n",
    "\n",
    "if os.path.exists(path_to_public_assets_folder):\n",
    "    \n",
    "    # Define where the data folder is.\n",
    "    path_to_data_folder = os.path.join(path_to_public_assets_folder, \"data\")\n",
    "    \n",
    "    # If the folder does not exist yet, create it.\n",
    "    if not os.path.exists(path_to_data_folder):\n",
    "        os.mkdir(path_to_data_folder)\n",
    "        print(f\"Creating data folder at: {path_to_data_folder}\")"
   ]
  },
  {
   "cell_type": "code",
   "execution_count": null,
   "metadata": {},
   "outputs": [],
   "source": [
    "### Delete this if #3 above has no issues\n",
    "\n",
    "# 3. Gap in ambition\n",
    "gap_in_ambition = pd.read_excel(path_to_gap_in_ambition)\n",
    "\n",
    "for idx, row in gap_in_ambition.iterrows():\n",
    "    value = row[\"Capacity\"]\n",
    "    if value >= 10:\n",
    "        new_value = np.round(value, 0)\n",
    "    elif 1 <= value < 10:\n",
    "        new_value = np.round(value, 1)\n",
    "    elif 0 < value < 1:\n",
    "        new_value = np.round(value, 2)\n",
    "    elif value == 0:  # Add this case for zero\n",
    "        new_value = 0  # Handle zero explicitly\n",
    "    gap_in_ambition.loc[idx, \"Capacity\"] = new_value\n",
    "\n",
    "     \n",
    "pandas_df_to_json(\n",
    "    gap_in_ambition, \n",
    "    os.path.join(path_to_data_folder, f\"gcpt_{year_filename}_gap_in_ambition.json\")\n",
    ")"
   ]
  }
 ],
 "metadata": {
  "kernelspec": {
   "display_name": "mentoring",
   "language": "python",
   "name": "python3"
  },
  "language_info": {
   "codemirror_mode": {
    "name": "ipython",
    "version": 3
   },
   "file_extension": ".py",
   "mimetype": "text/x-python",
   "name": "python",
   "nbconvert_exporter": "python",
   "pygments_lexer": "ipython3",
   "version": "3.11.4"
  }
 },
 "nbformat": 4,
 "nbformat_minor": 2
}
