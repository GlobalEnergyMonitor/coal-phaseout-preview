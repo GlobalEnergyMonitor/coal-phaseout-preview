{
 "cells": [
  {
   "cell_type": "markdown",
   "metadata": {},
   "source": [
    "## Issues: \n",
    "- adjust this code so that it puts the json files directly into a \"data\" folder in public/assets\n",
    "- json files not reading in accent marks (e.g. C\\u00f4te d'Ivoire, T\\u00fcrkiye)\n",
    "- in the data ticker code currently reading in \"None\" for coal phaseout as \"nan\"\n",
    "- the original data ticker code had a color for everything, not sure it matters (assets_original/data/gcpt_h1_2024_data_ticker.json)\n",
    "- Did not adjust the text-config.json file as seemed unnecessary for now, although it might not find the countries with accent marks"
   ]
  },
  {
   "cell_type": "code",
   "execution_count": null,
   "metadata": {},
   "outputs": [],
   "source": [
    "# - the data ticker code currently reading in \"None\" for coal phaseout as \"nan\" - I guess turn it into a string?\n"
   ]
  },
  {
   "cell_type": "code",
   "execution_count": 1,
   "metadata": {},
   "outputs": [],
   "source": [
    "import os\n",
    "import pandas as pd\n",
    "import json\n",
    "import numpy as np\n",
    "\n",
    "# os.chdir('/Users/christineshearer/Desktop/workspace/GEM/Retirements Dashboard/data_wrangling_2')"
   ]
  },
  {
   "cell_type": "code",
   "execution_count": 9,
   "metadata": {},
   "outputs": [
    {
     "name": "stdout",
     "output_type": "stream",
     "text": [
      "Creating data folder at: /Users/nicholasabad/Desktop/workspace/christine-projects/GEM/Retirements Dashboard/public/assets/data\n"
     ]
    }
   ],
   "source": [
    "path_to_capacity_over_time = \"./data_wrangling_2/raw_data/capacity_over_time.xlsx\"\n",
    "path_to_data_ticker = \"./data_wrangling_2/raw_data/data_ticker.xlsx\"\n",
    "path_to_gap_in_ambition = \"./data_wrangling_2/raw_data/gap_in_ambition.xlsx\"\n",
    "path_to_past_and_planned_retirement = \"./data_wrangling_2/raw_data/past_and_planned_retirements.xlsx\"\n",
    "path_to_planned_retire_groupings = \"./data_wrangling_2/raw_data/planned_retire_groupings.xlsx\"\n",
    "\n",
    "#what was this for?\n",
    "project_data_dir = \"./data\"\n",
    "year_filename = \"h2_2024\"\n",
    "full_year = \"2024\"\n",
    "year_variable = \"H2 2024\"\n",
    "\n",
    "# Define where the public folder is.\n",
    "path_to_public_assets_folder = \"/Users/nicholasabad/Desktop/workspace/christine-projects/GEM/Retirements Dashboard/public/assets\"\n",
    "\n",
    "if os.path.exists(path_to_public_assets_folder):\n",
    "    \n",
    "    # Define where the data folder is.\n",
    "    path_to_data_folder = os.path.join(\n",
    "        path_to_public_assets_folder, \"data\"\n",
    "    )\n",
    "    \n",
    "    # If the folder does not exist yet, create it.\n",
    "    if not os.path.exists(path_to_data_folder):\n",
    "        os.mkdir(path_to_data_folder)\n",
    "        print(f\"Creating data folder at: {path_to_data_folder}\")"
   ]
  },
  {
   "cell_type": "code",
   "execution_count": 10,
   "metadata": {},
   "outputs": [],
   "source": [
    "# Function to generate the json files\n",
    "\n",
    "def pandas_df_to_json(\n",
    "    dataframe: pd.DataFrame,\n",
    "    output_path: str,\n",
    "):\n",
    "    our_json_file = []\n",
    "    for idx, row in dataframe.iterrows():\n",
    "        curr_dict = {}\n",
    "        for column in dataframe.columns:\n",
    "            curr_dict[column] = str(row[column])\n",
    "        \n",
    "        our_json_file.append(curr_dict)\n",
    "    \n",
    "    with open(output_path, \"w\", encoding=\"utf-8\") as output:\n",
    "        json.dump(our_json_file, output, indent=4) \n",
    "        \n",
    "    print(f\"Wrote json file to {output_path}\")"
   ]
  },
  {
   "cell_type": "code",
   "execution_count": 11,
   "metadata": {},
   "outputs": [
    {
     "name": "stdout",
     "output_type": "stream",
     "text": [
      "Wrote json file to /Users/nicholasabad/Desktop/workspace/christine-projects/GEM/Retirements Dashboard/public/assets/data/gcpt_h2_2024_capacity_over_time.json\n"
     ]
    }
   ],
   "source": [
    "# 1. Capacity over time\n",
    "capacity_over_time = pd.read_excel(path_to_capacity_over_time)\n",
    "capacity_over_time = capacity_over_time.fillna(\"\")\n",
    "\n",
    "pandas_df_to_json(\n",
    "    capacity_over_time, \n",
    "    os.path.join(path_to_data_folder, f\"gcpt_{year_filename}_capacity_over_time.json\")\n",
    ")"
   ]
  },
  {
   "cell_type": "code",
   "execution_count": 16,
   "metadata": {},
   "outputs": [
    {
     "data": {
      "text/html": [
       "<div>\n",
       "<style scoped>\n",
       "    .dataframe tbody tr th:only-of-type {\n",
       "        vertical-align: middle;\n",
       "    }\n",
       "\n",
       "    .dataframe tbody tr th {\n",
       "        vertical-align: top;\n",
       "    }\n",
       "\n",
       "    .dataframe thead th {\n",
       "        text-align: right;\n",
       "    }\n",
       "</style>\n",
       "<table border=\"1\" class=\"dataframe\">\n",
       "  <thead>\n",
       "    <tr style=\"text-align: right;\">\n",
       "      <th></th>\n",
       "      <th>Country/Area</th>\n",
       "      <th>Pledged coal phaseout year</th>\n",
       "      <th>1.5C pathway phaseout year</th>\n",
       "      <th>Total operating capacity (GW)</th>\n",
       "    </tr>\n",
       "  </thead>\n",
       "  <tbody>\n",
       "    <tr>\n",
       "      <th>0</th>\n",
       "      <td>Global</td>\n",
       "      <td>2040</td>\n",
       "      <td>NaN</td>\n",
       "      <td>2126.000</td>\n",
       "    </tr>\n",
       "    <tr>\n",
       "      <th>1</th>\n",
       "      <td>G7</td>\n",
       "      <td>2030</td>\n",
       "      <td>2035.0</td>\n",
       "      <td>296.000</td>\n",
       "    </tr>\n",
       "    <tr>\n",
       "      <th>2</th>\n",
       "      <td>G20</td>\n",
       "      <td>2040</td>\n",
       "      <td>NaN</td>\n",
       "      <td>1968.000</td>\n",
       "    </tr>\n",
       "    <tr>\n",
       "      <th>3</th>\n",
       "      <td>EU27</td>\n",
       "      <td>2030</td>\n",
       "      <td>NaN</td>\n",
       "      <td>97.000</td>\n",
       "    </tr>\n",
       "    <tr>\n",
       "      <th>4</th>\n",
       "      <td>OECD</td>\n",
       "      <td>2030</td>\n",
       "      <td>NaN</td>\n",
       "      <td>443.000</td>\n",
       "    </tr>\n",
       "    <tr>\n",
       "      <th>...</th>\n",
       "      <td>...</td>\n",
       "      <td>...</td>\n",
       "      <td>...</td>\n",
       "      <td>...</td>\n",
       "    </tr>\n",
       "    <tr>\n",
       "      <th>109</th>\n",
       "      <td>Uzbekistan</td>\n",
       "      <td>2040</td>\n",
       "      <td>NaN</td>\n",
       "      <td>2.493</td>\n",
       "    </tr>\n",
       "    <tr>\n",
       "      <th>110</th>\n",
       "      <td>Venezuela</td>\n",
       "      <td>2040</td>\n",
       "      <td>NaN</td>\n",
       "      <td>0.000</td>\n",
       "    </tr>\n",
       "    <tr>\n",
       "      <th>111</th>\n",
       "      <td>Vietnam</td>\n",
       "      <td>2040</td>\n",
       "      <td>NaN</td>\n",
       "      <td>27.239</td>\n",
       "    </tr>\n",
       "    <tr>\n",
       "      <th>112</th>\n",
       "      <td>Zambia</td>\n",
       "      <td>2040</td>\n",
       "      <td>NaN</td>\n",
       "      <td>0.330</td>\n",
       "    </tr>\n",
       "    <tr>\n",
       "      <th>113</th>\n",
       "      <td>Zimbabwe</td>\n",
       "      <td>2040</td>\n",
       "      <td>NaN</td>\n",
       "      <td>1.670</td>\n",
       "    </tr>\n",
       "  </tbody>\n",
       "</table>\n",
       "<p>114 rows × 4 columns</p>\n",
       "</div>"
      ],
      "text/plain": [
       "    Country/Area  Pledged coal phaseout year  1.5C pathway phaseout year  \\\n",
       "0         Global                        2040                         NaN   \n",
       "1             G7                        2030                      2035.0   \n",
       "2            G20                        2040                         NaN   \n",
       "3           EU27                        2030                         NaN   \n",
       "4           OECD                        2030                         NaN   \n",
       "..           ...                         ...                         ...   \n",
       "109   Uzbekistan                        2040                         NaN   \n",
       "110    Venezuela                        2040                         NaN   \n",
       "111      Vietnam                        2040                         NaN   \n",
       "112       Zambia                        2040                         NaN   \n",
       "113     Zimbabwe                        2040                         NaN   \n",
       "\n",
       "     Total operating capacity (GW)  \n",
       "0                         2126.000  \n",
       "1                          296.000  \n",
       "2                         1968.000  \n",
       "3                           97.000  \n",
       "4                          443.000  \n",
       "..                             ...  \n",
       "109                          2.493  \n",
       "110                          0.000  \n",
       "111                         27.239  \n",
       "112                          0.330  \n",
       "113                          1.670  \n",
       "\n",
       "[114 rows x 4 columns]"
      ]
     },
     "execution_count": 16,
     "metadata": {},
     "output_type": "execute_result"
    }
   ],
   "source": [
    "data_ticker"
   ]
  },
  {
   "cell_type": "code",
   "execution_count": null,
   "metadata": {},
   "outputs": [],
   "source": []
  },
  {
   "cell_type": "code",
   "execution_count": 33,
   "metadata": {},
   "outputs": [
    {
     "name": "stdout",
     "output_type": "stream",
     "text": [
      "Wrote json file to /Users/nicholasabad/Desktop/workspace/christine-projects/GEM/Retirements Dashboard/public/assets/data/gcpt_h2_2024_data_ticker.json\n"
     ]
    }
   ],
   "source": [
    "#To do: currently reading in \"None\" for coal phaseout as \"nan\"\n",
    "# - the original data ticker code wrote out the text at the top of the dashboard and I think I will need to do the same with my data ticker code\n",
    "\n",
    "\n",
    "# 2. Data ticker\n",
    "\n",
    "data_ticker = pd.read_excel(path_to_data_ticker)\n",
    "data_ticker[\"1.5C pathway phaseout year\"] = data_ticker[\"1.5C pathway phaseout year\"].fillna(\"None\")\n",
    "\n",
    "\n",
    "\n",
    "\n",
    "pandas_df_to_json(\n",
    "    data_ticker, \n",
    "    os.path.join(path_to_data_folder, f\"gcpt_{year_filename}_data_ticker.json\")\n",
    ")\n"
   ]
  },
  {
   "cell_type": "code",
   "execution_count": null,
   "metadata": {},
   "outputs": [
    {
     "name": "stderr",
     "output_type": "stream",
     "text": [
      "/var/folders/2s/38kg81v526j7qcgd8gdq8jd00000gn/T/ipykernel_35721/1022730456.py:4: FutureWarning: Setting an item of incompatible dtype is deprecated and will raise in a future error of pandas. Value '<span>{{2040}}</span><br>Pledged Coal<br>Phaseout Year' has dtype incompatible with int64, please explicitly cast to a compatible dtype first.\n",
      "  data_ticker.loc[idx, \"Pledged coal phaseout year\"] = formatted_pledged_coal_phaseout_year\n"
     ]
    }
   ],
   "source": [
    "for idx, row in data_ticker.iterrows():\n",
    "    pledged_coal_phaseout_year = row[\"Pledged coal phaseout year\"]\n",
    "    formatted_pledged_coal_phaseout_year = f\"<span>{{{{{pledged_coal_phaseout_year}}}}}</span><br>Pledged Coal<br>Phaseout Year\"\n",
    "    data_ticker.loc[idx, \"Pledged coal phaseout year\"] = formatted_pledged_coal_phaseout_year\n",
    "    \n",
    "    net_zero_coal_phaseout_year = row[\"1.5C pathway phaseout year\"]\n",
    "    formatted_net_zero_coal_phaseout_year= f\"<span>{{{{{net_zero_coal_phaseout_year}}}}}</span><br>1.5C Pathway<br>Phaseout Year\"\n",
    "    data_ticker.loc[idx, \"Pledged coal phaseout year\"] = formatted_pledged_coal_phaseout_year\n",
    "    \n",
    "    \n",
    "    "
   ]
  },
  {
   "cell_type": "code",
   "execution_count": 35,
   "metadata": {},
   "outputs": [
    {
     "data": {
      "text/html": [
       "<div>\n",
       "<style scoped>\n",
       "    .dataframe tbody tr th:only-of-type {\n",
       "        vertical-align: middle;\n",
       "    }\n",
       "\n",
       "    .dataframe tbody tr th {\n",
       "        vertical-align: top;\n",
       "    }\n",
       "\n",
       "    .dataframe thead th {\n",
       "        text-align: right;\n",
       "    }\n",
       "</style>\n",
       "<table border=\"1\" class=\"dataframe\">\n",
       "  <thead>\n",
       "    <tr style=\"text-align: right;\">\n",
       "      <th></th>\n",
       "      <th>Country/Area</th>\n",
       "      <th>Pledged coal phaseout year</th>\n",
       "      <th>1.5C pathway phaseout year</th>\n",
       "      <th>Total operating capacity (GW)</th>\n",
       "    </tr>\n",
       "  </thead>\n",
       "  <tbody>\n",
       "    <tr>\n",
       "      <th>0</th>\n",
       "      <td>Global</td>\n",
       "      <td>&lt;span&gt;{{2040}}&lt;/span&gt;&lt;br&gt;Pledged Coal&lt;br&gt;Phase...</td>\n",
       "      <td>None</td>\n",
       "      <td>2126.000</td>\n",
       "    </tr>\n",
       "    <tr>\n",
       "      <th>1</th>\n",
       "      <td>G7</td>\n",
       "      <td>&lt;span&gt;{{2030}}&lt;/span&gt;&lt;br&gt;Pledged Coal&lt;br&gt;Phase...</td>\n",
       "      <td>2035.0</td>\n",
       "      <td>296.000</td>\n",
       "    </tr>\n",
       "    <tr>\n",
       "      <th>2</th>\n",
       "      <td>G20</td>\n",
       "      <td>&lt;span&gt;{{2040}}&lt;/span&gt;&lt;br&gt;Pledged Coal&lt;br&gt;Phase...</td>\n",
       "      <td>None</td>\n",
       "      <td>1968.000</td>\n",
       "    </tr>\n",
       "    <tr>\n",
       "      <th>3</th>\n",
       "      <td>EU27</td>\n",
       "      <td>&lt;span&gt;{{2030}}&lt;/span&gt;&lt;br&gt;Pledged Coal&lt;br&gt;Phase...</td>\n",
       "      <td>None</td>\n",
       "      <td>97.000</td>\n",
       "    </tr>\n",
       "    <tr>\n",
       "      <th>4</th>\n",
       "      <td>OECD</td>\n",
       "      <td>&lt;span&gt;{{2030}}&lt;/span&gt;&lt;br&gt;Pledged Coal&lt;br&gt;Phase...</td>\n",
       "      <td>None</td>\n",
       "      <td>443.000</td>\n",
       "    </tr>\n",
       "    <tr>\n",
       "      <th>...</th>\n",
       "      <td>...</td>\n",
       "      <td>...</td>\n",
       "      <td>...</td>\n",
       "      <td>...</td>\n",
       "    </tr>\n",
       "    <tr>\n",
       "      <th>109</th>\n",
       "      <td>Uzbekistan</td>\n",
       "      <td>&lt;span&gt;{{2040}}&lt;/span&gt;&lt;br&gt;Pledged Coal&lt;br&gt;Phase...</td>\n",
       "      <td>None</td>\n",
       "      <td>2.493</td>\n",
       "    </tr>\n",
       "    <tr>\n",
       "      <th>110</th>\n",
       "      <td>Venezuela</td>\n",
       "      <td>&lt;span&gt;{{2040}}&lt;/span&gt;&lt;br&gt;Pledged Coal&lt;br&gt;Phase...</td>\n",
       "      <td>None</td>\n",
       "      <td>0.000</td>\n",
       "    </tr>\n",
       "    <tr>\n",
       "      <th>111</th>\n",
       "      <td>Vietnam</td>\n",
       "      <td>&lt;span&gt;{{2040}}&lt;/span&gt;&lt;br&gt;Pledged Coal&lt;br&gt;Phase...</td>\n",
       "      <td>None</td>\n",
       "      <td>27.239</td>\n",
       "    </tr>\n",
       "    <tr>\n",
       "      <th>112</th>\n",
       "      <td>Zambia</td>\n",
       "      <td>&lt;span&gt;{{2040}}&lt;/span&gt;&lt;br&gt;Pledged Coal&lt;br&gt;Phase...</td>\n",
       "      <td>None</td>\n",
       "      <td>0.330</td>\n",
       "    </tr>\n",
       "    <tr>\n",
       "      <th>113</th>\n",
       "      <td>Zimbabwe</td>\n",
       "      <td>&lt;span&gt;{{2040}}&lt;/span&gt;&lt;br&gt;Pledged Coal&lt;br&gt;Phase...</td>\n",
       "      <td>None</td>\n",
       "      <td>1.670</td>\n",
       "    </tr>\n",
       "  </tbody>\n",
       "</table>\n",
       "<p>114 rows × 4 columns</p>\n",
       "</div>"
      ],
      "text/plain": [
       "    Country/Area                         Pledged coal phaseout year  \\\n",
       "0         Global  <span>{{2040}}</span><br>Pledged Coal<br>Phase...   \n",
       "1             G7  <span>{{2030}}</span><br>Pledged Coal<br>Phase...   \n",
       "2            G20  <span>{{2040}}</span><br>Pledged Coal<br>Phase...   \n",
       "3           EU27  <span>{{2030}}</span><br>Pledged Coal<br>Phase...   \n",
       "4           OECD  <span>{{2030}}</span><br>Pledged Coal<br>Phase...   \n",
       "..           ...                                                ...   \n",
       "109   Uzbekistan  <span>{{2040}}</span><br>Pledged Coal<br>Phase...   \n",
       "110    Venezuela  <span>{{2040}}</span><br>Pledged Coal<br>Phase...   \n",
       "111      Vietnam  <span>{{2040}}</span><br>Pledged Coal<br>Phase...   \n",
       "112       Zambia  <span>{{2040}}</span><br>Pledged Coal<br>Phase...   \n",
       "113     Zimbabwe  <span>{{2040}}</span><br>Pledged Coal<br>Phase...   \n",
       "\n",
       "    1.5C pathway phaseout year  Total operating capacity (GW)  \n",
       "0                         None                       2126.000  \n",
       "1                       2035.0                        296.000  \n",
       "2                         None                       1968.000  \n",
       "3                         None                         97.000  \n",
       "4                         None                        443.000  \n",
       "..                         ...                            ...  \n",
       "109                       None                          2.493  \n",
       "110                       None                          0.000  \n",
       "111                       None                         27.239  \n",
       "112                       None                          0.330  \n",
       "113                       None                          1.670  \n",
       "\n",
       "[114 rows x 4 columns]"
      ]
     },
     "execution_count": 35,
     "metadata": {},
     "output_type": "execute_result"
    }
   ],
   "source": [
    "data_ticker"
   ]
  },
  {
   "cell_type": "code",
   "execution_count": 13,
   "metadata": {},
   "outputs": [
    {
     "name": "stdout",
     "output_type": "stream",
     "text": [
      "Wrote json file to /Users/nicholasabad/Desktop/workspace/christine-projects/GEM/Retirements Dashboard/public/assets/data/gcpt_h2_2024_gap_in_ambition.json\n"
     ]
    }
   ],
   "source": [
    "# 3. Gap in ambition\n",
    "gap_in_ambition = pd.read_excel(path_to_gap_in_ambition)\n",
    "\n",
    "for idx, row in gap_in_ambition.iterrows():\n",
    "    value = row[\"Capacity\"]\n",
    "    if value >= 10:\n",
    "        new_value = np.round(value, 0)\n",
    "    elif 1 <= value < 10:\n",
    "        new_value = np.round(value, 1)\n",
    "    elif 0 < value < 1:\n",
    "        new_value = np.round(value, 2)\n",
    "    gap_in_ambition.loc[idx, \"Capacity\"] = new_value\n",
    "    \n",
    "    \n",
    "pandas_df_to_json(\n",
    "    gap_in_ambition, \n",
    "    os.path.join(path_to_data_folder, f\"gcpt_{year_filename}_gap_in_ambition.json\")\n",
    ")"
   ]
  },
  {
   "cell_type": "code",
   "execution_count": 14,
   "metadata": {},
   "outputs": [
    {
     "name": "stdout",
     "output_type": "stream",
     "text": [
      "Wrote json file to /Users/nicholasabad/Desktop/workspace/christine-projects/GEM/Retirements Dashboard/public/assets/data/gcpt_h2_2024_past_and_planned_retirement.json\n"
     ]
    }
   ],
   "source": [
    "# 4. path_to_past_and_planned_retirement\n",
    "past_and_planned_retirement = pd.read_excel(path_to_past_and_planned_retirement)\n",
    "pandas_df_to_json(\n",
    "    past_and_planned_retirement, \n",
    "    os.path.join(path_to_data_folder, f\"gcpt_{year_filename}_past_and_planned_retirement.json\")\n",
    ")"
   ]
  },
  {
   "cell_type": "code",
   "execution_count": 15,
   "metadata": {},
   "outputs": [
    {
     "name": "stdout",
     "output_type": "stream",
     "text": [
      "Wrote json file to /Users/nicholasabad/Desktop/workspace/christine-projects/GEM/Retirements Dashboard/public/assets/data/gcpt_h2_2024_planned_retire_groupings.json\n"
     ]
    }
   ],
   "source": [
    "# 5. path_to_planned_retire_groupings\n",
    "planned_retire_groupings = pd.read_excel(path_to_planned_retire_groupings)\n",
    "\n",
    "pandas_df_to_json(\n",
    "    planned_retire_groupings, \n",
    "    os.path.join(path_to_data_folder, f\"gcpt_{year_filename}_planned_retire_groupings.json\")\n",
    ")"
   ]
  },
  {
   "cell_type": "code",
   "execution_count": null,
   "metadata": {},
   "outputs": [],
   "source": []
  }
 ],
 "metadata": {
  "kernelspec": {
   "display_name": "remind-cancer",
   "language": "python",
   "name": "python3"
  },
  "language_info": {
   "codemirror_mode": {
    "name": "ipython",
    "version": 3
   },
   "file_extension": ".py",
   "mimetype": "text/x-python",
   "name": "python",
   "nbconvert_exporter": "python",
   "pygments_lexer": "ipython3",
   "version": "3.11.5"
  }
 },
 "nbformat": 4,
 "nbformat_minor": 2
}
