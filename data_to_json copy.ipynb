{
 "cells": [
  {
   "cell_type": "code",
   "execution_count": 1,
   "metadata": {},
   "outputs": [],
   "source": [
    "import os\n",
    "import pandas as pd\n",
    "import json\n",
    "import numpy as np\n",
    "\n",
    "#os.chdir('/Users/christineshearer/Desktop/workspace/GEM/Retirements Dashboard/data_wrangling_2')"
   ]
  },
  {
   "cell_type": "code",
   "execution_count": 2,
   "metadata": {},
   "outputs": [],
   "source": [
    "path_to_capacity_over_time = \"./data_wrangling_2/raw_data/capacity_over_time.xlsx\"\n",
    "path_to_data_ticker = \"./data_wrangling_2/raw_data/data_ticker.xlsx\"\n",
    "path_to_gap_in_ambition = \"./data_wrangling_2/raw_data/gap_in_ambition.xlsx\"\n",
    "path_to_past_and_planned_retirement = \"./data_wrangling_2/raw_data/past_and_planned_retirements.xlsx\"\n",
    "path_to_planned_retire_groupings = \"./data_wrangling_2/raw_data/planned_retire_groupings.xlsx\"\n",
    "\n",
    "\n",
    "#file name headers\n",
    "project_data_dir = \"./data\"\n",
    "year_filename = \"h2_2024\"\n",
    "full_year = \"2024\"\n",
    "year_variable = \"H2 2024\"\n",
    "\n",
    "# Define where the public folder is.\n",
    "path_to_public_assets_folder = \"/Users/christineshearer/Desktop/workspace/GEM/Retirements Dashboard/public/assets\"\n",
    "\n",
    "if os.path.exists(path_to_public_assets_folder):\n",
    "    \n",
    "    # Define where the data folder is.\n",
    "    path_to_data_folder = os.path.join(\n",
    "        path_to_public_assets_folder, \"data\"\n",
    "    )\n",
    "    \n",
    "    # If the folder does not exist yet, create it.\n",
    "    if not os.path.exists(path_to_data_folder):\n",
    "        os.mkdir(path_to_data_folder)\n",
    "        print(f\"Creating data folder at: {path_to_data_folder}\")"
   ]
  },
  {
   "cell_type": "code",
   "execution_count": 3,
   "metadata": {},
   "outputs": [],
   "source": [
    "# Function to generate the json files\n",
    "\n",
    "def pandas_df_to_json(\n",
    "    dataframe: pd.DataFrame,\n",
    "    output_path: str,\n",
    "):\n",
    "    our_json_file = []\n",
    "    for idx, row in dataframe.iterrows():\n",
    "        curr_dict = {}\n",
    "        for column in dataframe.columns:\n",
    "            curr_dict[column] = str(row[column])\n",
    "        \n",
    "        our_json_file.append(curr_dict)\n",
    "    \n",
    "    with open(output_path, \"w\") as output:\n",
    "        json.dump(our_json_file, output, indent=4) \n",
    "        \n",
    "    print(f\"Wrote json file to {output_path}\")"
   ]
  },
  {
   "cell_type": "code",
   "execution_count": 4,
   "metadata": {},
   "outputs": [
    {
     "name": "stdout",
     "output_type": "stream",
     "text": [
      "Wrote json file to /Users/christineshearer/Desktop/workspace/GEM/Retirements Dashboard/public/assets/data/gcpt_h2_2024_capacity_over_time.json\n"
     ]
    }
   ],
   "source": [
    "# 1. Capacity over time\n",
    "capacity_over_time = pd.read_excel(path_to_capacity_over_time)\n",
    "#capacity_over_time = capacity_over_time.fillna(\"\")\n",
    "capacity_over_time = capacity_over_time.fillna(0)\n",
    "\n",
    "pandas_df_to_json(\n",
    "    capacity_over_time, \n",
    "    os.path.join(path_to_data_folder, f\"gcpt_{year_filename}_capacity_over_time.json\")\n",
    ")"
   ]
  },
  {
   "cell_type": "code",
   "execution_count": 6,
   "metadata": {},
   "outputs": [
    {
     "name": "stdout",
     "output_type": "stream",
     "text": [
      "Wrote json file to /Users/christineshearer/Desktop/workspace/GEM/Retirements Dashboard/public/assets/data/gcpt_h2_2024_data_ticker.json\n"
     ]
    }
   ],
   "source": [
    "#To do: currently reading in \"None\" for coal phaseout as \"nan\"\n",
    "\n",
    "# 2. Data ticker\n",
    "\n",
    "data_ticker = pd.read_excel(path_to_data_ticker)\n",
    "\n",
    "data_ticker[\"Pledged coal phaseout year\"] = data_ticker[\"Pledged coal phaseout year\"].fillna(\"None\")\n",
    "\n",
    "for idx, row in data_ticker.iterrows():\n",
    "    pledged_coal_phaseout_year = row[\"Pledged coal phaseout year\"]\n",
    "    formatted_pledged_coal_phaseout_year = f\"<span>{pledged_coal_phaseout_year}</span><br>Pledged Coal<br>Phaseout Year\"\n",
    "    data_ticker.loc[idx, \"Pledged coal phaseout year\"] = formatted_pledged_coal_phaseout_year\n",
    "    \n",
    "    net_zero_coal_phaseout_year = row[\"1.5C pathway phaseout year\"]\n",
    "    formatted_net_zero_coal_phaseout_year= f\"<span>{net_zero_coal_phaseout_year}</span><br>1.5C Pathway<br>Phaseout Year\"\n",
    "    data_ticker.loc[idx, \"1.5C pathway phaseout year\"] = formatted_net_zero_coal_phaseout_year\n",
    "    \n",
    "    total_operating_capacity = row[\"Total operating capacity (GW)\"]\n",
    "    formatted_total_operating_capacity= f\"<span>{{{{{total_operating_capacity}}}}}</span><br>Total Operating<br>Capacity (GW)\"\n",
    "    data_ticker.loc[idx, \"Total operating capacity (GW)\"] = formatted_total_operating_capacity\n",
    "\n",
    "\n",
    "data_ticker.rename(\n",
    "    {\n",
    "        \"Pledged coal phaseout year\": \"summary_1\",\n",
    "        \"1.5C pathway phaseout year\": \"summary_2\",\n",
    "        \"Total operating capacity (GW)\": \"summary_3\"\n",
    "    },\n",
    "    axis=1,\n",
    "    inplace=True\n",
    ")\n",
    "\n",
    "data_ticker[\"summary_1_color\"] = \"#bf532c\"\n",
    "data_ticker[\"summary_2_color\"] = \"#A8A8A8\"\n",
    "data_ticker[\"summary_3_color\"] = \"#f27d16\"\n",
    "\n",
    "data_ticker = data_ticker[[\"Country\", \"summary_1\", \"summary_1_color\", \"summary_2\", \"summary_2_color\", \"summary_3\", \"summary_3_color\"]]\n",
    "\n",
    "pandas_df_to_json(\n",
    "    data_ticker, \n",
    "    os.path.join(path_to_data_folder, f\"gcpt_{year_filename}_data_ticker.json\")\n",
    ")\n"
   ]
  },
  {
   "cell_type": "code",
   "execution_count": 7,
   "metadata": {},
   "outputs": [
    {
     "name": "stdout",
     "output_type": "stream",
     "text": [
      "Wrote json file to /Users/christineshearer/Desktop/workspace/GEM/Retirements Dashboard/public/assets/data/gcpt_h2_2024_gap_in_ambition.json\n"
     ]
    }
   ],
   "source": [
    "# 3. Gap in ambition\n",
    "gap_in_ambition = pd.read_excel(path_to_gap_in_ambition)\n",
    "\n",
    "for idx, row in gap_in_ambition.iterrows():\n",
    "    value = row[\"Capacity\"]\n",
    "    if value >= 10:\n",
    "        new_value = np.round(value, 0)\n",
    "    elif 1 <= value < 10:\n",
    "        new_value = np.round(value, 1)\n",
    "    elif 0 < value < 1:\n",
    "        new_value = np.round(value, 2)\n",
    "    gap_in_ambition.loc[idx, \"Capacity\"] = new_value\n",
    "    \n",
    "    \n",
    "pandas_df_to_json(\n",
    "    gap_in_ambition, \n",
    "    os.path.join(path_to_data_folder, f\"gcpt_{year_filename}_gap_in_ambition.json\")\n",
    ")"
   ]
  },
  {
   "cell_type": "code",
   "execution_count": 8,
   "metadata": {},
   "outputs": [
    {
     "name": "stdout",
     "output_type": "stream",
     "text": [
      "Wrote json file to /Users/christineshearer/Desktop/workspace/GEM/Retirements Dashboard/public/assets/data/gcpt_h2_2024_past_and_planned_retirement.json\n"
     ]
    }
   ],
   "source": [
    "# 4. path_to_past_and_planned_retirement\n",
    "past_and_planned_retirement = pd.read_excel(path_to_past_and_planned_retirement)\n",
    "pandas_df_to_json(\n",
    "    past_and_planned_retirement, \n",
    "    os.path.join(path_to_data_folder, f\"gcpt_{year_filename}_past_and_planned_retirement.json\")\n",
    ")"
   ]
  },
  {
   "cell_type": "code",
   "execution_count": 9,
   "metadata": {},
   "outputs": [
    {
     "name": "stdout",
     "output_type": "stream",
     "text": [
      "Wrote json file to /Users/christineshearer/Desktop/workspace/GEM/Retirements Dashboard/public/assets/data/gcpt_h2_2024_planned_retire_groupings.json\n"
     ]
    }
   ],
   "source": [
    "# 5. path_to_planned_retire_groupings\n",
    "planned_retire_groupings = pd.read_excel(path_to_planned_retire_groupings)\n",
    "\n",
    "pandas_df_to_json(\n",
    "    planned_retire_groupings, \n",
    "    os.path.join(path_to_data_folder, f\"gcpt_{year_filename}_planned_retire_groupings.json\")\n",
    ")"
   ]
  },
  {
   "cell_type": "code",
   "execution_count": null,
   "metadata": {},
   "outputs": [],
   "source": []
  }
 ],
 "metadata": {
  "kernelspec": {
   "display_name": "mentoring",
   "language": "python",
   "name": "python3"
  },
  "language_info": {
   "codemirror_mode": {
    "name": "ipython",
    "version": 3
   },
   "file_extension": ".py",
   "mimetype": "text/x-python",
   "name": "python",
   "nbconvert_exporter": "python",
   "pygments_lexer": "ipython3",
   "version": "3.11.5"
  }
 },
 "nbformat": 4,
 "nbformat_minor": 2
}
