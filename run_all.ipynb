{
 "cells": [
  {
   "cell_type": "code",
   "execution_count": 12,
   "metadata": {},
   "outputs": [],
   "source": [
    "import os\n",
    "import pandas as pd\n",
    "import json\n",
    "import numpy as np\n",
    "\n",
    "os.chdir('/Users/christines/Desktop/workspace/GEM/GCPT-dashboard-Flourish/data_wrangling')"
   ]
  },
  {
   "cell_type": "code",
   "execution_count": 13,
   "metadata": {},
   "outputs": [],
   "source": [
    "path_to_summary_text_xlsx = \"../example_datasets/summary_text.xlsx\"\n",
    "path_to_cumulative_xlsx = \"../example_datasets/cumulative.xlsx\"\n",
    "path_to_added_retired_xlsx = \"../example_datasets/added_retired.xlsx\"\n",
    "path_to_status_over_time_xlsx = \"../example_datasets/status over time.xlsx\"\n",
    "path_to_age_xlsx = \"../example_datasets/plant age_type.xlsx\"\n",
    "path_to_data_ticker_xlsx = \"../example_datasets/data ticker.xlsx\"\n",
    "\n",
    "\n",
    "project_data_dir = \"../data/dashboards/GCPT\"\n",
    "year_filename = \"h1_2024\"\n",
    "full_year = \"2024\"\n",
    "year_variable = \"H1 2024\""
   ]
  },
  {
   "cell_type": "code",
   "execution_count": 14,
   "metadata": {},
   "outputs": [],
   "source": [
    "# 2. LOADS DATA\n",
    "gcpt_country_summary_text_df_original = pd.read_excel(path_to_summary_text_xlsx)\n",
    "gcpt_cumulative_df_original = pd.read_excel(path_to_cumulative_xlsx)\n",
    "gcpt_added_retired_df_original = pd.read_excel(path_to_added_retired_xlsx)\n",
    "gcpt_status_over_time_df_original = pd.read_excel(path_to_status_over_time_xlsx)\n",
    "gcpt_age_type_df_original = pd.read_excel(path_to_age_xlsx)\n",
    "gcpt_data_ticker_df_original = pd.read_excel(path_to_data_ticker_xlsx)\n"
   ]
  },
  {
   "cell_type": "code",
   "execution_count": 15,
   "metadata": {},
   "outputs": [],
   "source": [
    "# Function to adjust column names/types  \n",
    " \n",
    "def modify_dataframe(\n",
    "    dataframe: pd.DataFrame\n",
    "):\n",
    "    dataframe.rename({\"Country/Region\": \"Country\"}, axis=1, inplace=True)\n",
    "    dataframe[\"Year\"] = dataframe[\"Year\"].astype(str)\n",
    "    dataframe[\"Year\"] = dataframe[\"Year\"].str.replace(full_year, year_variable)\n",
    "    return dataframe\n",
    "\n",
    "# Function to generate the json files\n",
    "\n",
    "def pandas_df_to_json(\n",
    "    dataframe: pd.DataFrame,\n",
    "    output_path: str,\n",
    "):\n",
    "    our_json_file = []\n",
    "    for idx, row in dataframe.iterrows():\n",
    "        curr_dict = {}\n",
    "        for column in dataframe.columns:\n",
    "            curr_dict[column] = str(row[column])\n",
    "        \n",
    "        our_json_file.append(curr_dict)\n",
    "    \n",
    "    with open(output_path, \"w\") as output:\n",
    "        json.dump(our_json_file, output, indent=4) \n",
    "        \n",
    "    print(f\"Wrote json file to {output_path}\")"
   ]
  },
  {
   "cell_type": "code",
   "execution_count": 16,
   "metadata": {},
   "outputs": [
    {
     "name": "stdout",
     "output_type": "stream",
     "text": [
      "Wrote json file to gcpt_h1_2024_summary_text.json\n"
     ]
    }
   ],
   "source": [
    "# 00b_structures_and_exports_summary_text.R\n",
    "\n",
    "gcpt_country_summary_text_df_original = gcpt_country_summary_text_df_original.fillna(\"\")\n",
    "\n",
    "pandas_df_to_json(\n",
    "    gcpt_country_summary_text_df_original,\n",
    "    f\"gcpt_{year_filename}_summary_text.json\"\n",
    ")\n"
   ]
  },
  {
   "cell_type": "code",
   "execution_count": 17,
   "metadata": {},
   "outputs": [
    {
     "name": "stdout",
     "output_type": "stream",
     "text": [
      "Wrote json file to gcpt_h1_2024_cumulative.json\n"
     ]
    }
   ],
   "source": [
    "# 01b_structures_and_exports_cumulative_data.R\n",
    "gcpt_cumulative_df_original = modify_dataframe(gcpt_cumulative_df_original)\n",
    "\n",
    "# gcpt_cumulative_df_original.to_excel()\n",
    "\n",
    "pandas_df_to_json(\n",
    "    gcpt_cumulative_df_original,\n",
    "    f\"gcpt_{year_filename}_cumulative.json\"\n",
    ")\n"
   ]
  },
  {
   "cell_type": "code",
   "execution_count": 18,
   "metadata": {},
   "outputs": [
    {
     "name": "stdout",
     "output_type": "stream",
     "text": [
      "Wrote json file to gcpt_h1_2024_added_retired.json\n"
     ]
    }
   ],
   "source": [
    "# 02b_structures_and_exports_added_retired_data.R\n",
    "\n",
    "gcpt_added_retired_df_original = modify_dataframe(gcpt_added_retired_df_original)\n",
    "\n",
    "pandas_df_to_json(\n",
    "    gcpt_added_retired_df_original,\n",
    "    f\"gcpt_{year_filename}_added_retired.json\"\n",
    ")\n"
   ]
  },
  {
   "cell_type": "code",
   "execution_count": 19,
   "metadata": {},
   "outputs": [
    {
     "name": "stdout",
     "output_type": "stream",
     "text": [
      "Wrote json file to gcpt_h1_2024_status_over_time.json\n"
     ]
    }
   ],
   "source": [
    "# 03b_structures_and_exports_over_time_data.R\n",
    "\n",
    "gcpt_status_over_time_df_original = modify_dataframe(gcpt_status_over_time_df_original)\n",
    "pandas_df_to_json(\n",
    "    gcpt_status_over_time_df_original,\n",
    "    f\"gcpt_{year_filename}_status_over_time.json\"\n",
    ")"
   ]
  },
  {
   "cell_type": "code",
   "execution_count": 20,
   "metadata": {},
   "outputs": [
    {
     "name": "stdout",
     "output_type": "stream",
     "text": [
      "Wrote json file to gcpt_h1_2024_age_type.json\n"
     ]
    }
   ],
   "source": [
    "# 04b_structures_and_exports_age_type_data.R\n",
    "\n",
    "gcpt_age_type_df_original.rename({\"Country/Region\": \"Country\"}, axis=1, inplace=True)\n",
    "gcpt_age_type_df_original = gcpt_age_type_df_original.sort_values([\"Country\", \"Age group\"], ascending=False).reset_index(drop=True)\n",
    "\n",
    "pandas_df_to_json(\n",
    "    gcpt_age_type_df_original,\n",
    "    f\"gcpt_{year_filename}_age_type.json\"\n",
    ")"
   ]
  },
  {
   "cell_type": "code",
   "execution_count": 21,
   "metadata": {},
   "outputs": [
    {
     "name": "stderr",
     "output_type": "stream",
     "text": [
      "/var/folders/y3/1cxltp3j6rn27pc3lkybs7hw0000gn/T/ipykernel_88823/4112161366.py:64: FutureWarning: Setting an item of incompatible dtype is deprecated and will raise in a future error of pandas. Value 'Albania' has dtype incompatible with float64, please explicitly cast to a compatible dtype first.\n",
      "  gcpt_data_ticker_df.loc[idx, \"Country\"] = country\n",
      "/var/folders/y3/1cxltp3j6rn27pc3lkybs7hw0000gn/T/ipykernel_88823/4112161366.py:65: FutureWarning: Setting an item of incompatible dtype is deprecated and will raise in a future error of pandas. Value '<span>{{0.0}} GW</span><br>operating coal<br>power capacity' has dtype incompatible with float64, please explicitly cast to a compatible dtype first.\n",
      "  gcpt_data_ticker_df.loc[idx,\n",
      "/var/folders/y3/1cxltp3j6rn27pc3lkybs7hw0000gn/T/ipykernel_88823/4112161366.py:65: FutureWarning: Setting an item of incompatible dtype is deprecated and will raise in a future error of pandas. Value '#bf532c' has dtype incompatible with float64, please explicitly cast to a compatible dtype first.\n",
      "  gcpt_data_ticker_df.loc[idx,\n",
      "/var/folders/y3/1cxltp3j6rn27pc3lkybs7hw0000gn/T/ipykernel_88823/4112161366.py:65: FutureWarning: Setting an item of incompatible dtype is deprecated and will raise in a future error of pandas. Value '<span>{{0.0}} GW</span><br>operating coal power <br>capacity from 2015' has dtype incompatible with float64, please explicitly cast to a compatible dtype first.\n",
      "  gcpt_data_ticker_df.loc[idx,\n",
      "/var/folders/y3/1cxltp3j6rn27pc3lkybs7hw0000gn/T/ipykernel_88823/4112161366.py:65: FutureWarning: Setting an item of incompatible dtype is deprecated and will raise in a future error of pandas. Value '#A8A8A8' has dtype incompatible with float64, please explicitly cast to a compatible dtype first.\n",
      "  gcpt_data_ticker_df.loc[idx,\n",
      "/var/folders/y3/1cxltp3j6rn27pc3lkybs7hw0000gn/T/ipykernel_88823/4112161366.py:65: FutureWarning: Setting an item of incompatible dtype is deprecated and will raise in a future error of pandas. Value '<span>{{0.0}} GW</span><br>coal power capacity<br> under development' has dtype incompatible with float64, please explicitly cast to a compatible dtype first.\n",
      "  gcpt_data_ticker_df.loc[idx,\n",
      "/var/folders/y3/1cxltp3j6rn27pc3lkybs7hw0000gn/T/ipykernel_88823/4112161366.py:65: FutureWarning: Setting an item of incompatible dtype is deprecated and will raise in a future error of pandas. Value '#f27d16' has dtype incompatible with float64, please explicitly cast to a compatible dtype first.\n",
      "  gcpt_data_ticker_df.loc[idx,\n"
     ]
    }
   ],
   "source": [
    "# 05b_structures_and_exports_data_ticker_Data.R\n",
    "\n",
    "gcpt_data_ticker_df_original.rename({\"Country/Region\": \"Country\"}, axis=1, inplace=True)\n",
    "#gcpt_data_ticker_df = pd.DataFrame()\n",
    "\n",
    "for idx, row in gcpt_data_ticker_df_original.iterrows():\n",
    "    country = row[\"Country\"]\n",
    "    change_in_operating_from_2015 = row[\"change_in_operating_from_2015\"]\n",
    "    operating = row[\"operating\"]\n",
    "    under_development = row[\"under_development\"]\n",
    "    \n",
    "    # Define the text color.\n",
    "    if change_in_operating_from_2015 > 0:\n",
    "        change_text_colour = \"#761200\"\n",
    "    elif change_in_operating_from_2015 < 0:\n",
    "        change_text_colour = \"#3F6950\"\n",
    "    elif change_in_operating_from_2015 == 0:\n",
    "        change_text_colour = \"#A8A8A8\"\n",
    "    else:\n",
    "        change_text_colour = \"#000000\"\n",
    "        \n",
    "    # Define the text symbol\n",
    "    change_text_symbol = \"+\" if change_in_operating_from_2015 > 0 else \"\"\n",
    "    \n",
    "    # Update the operating variable.\n",
    "    if operating >= 10:\n",
    "        operating = np.round(operating, 0)\n",
    "    elif 1 <= operating < 10:\n",
    "        operating = np.round(operating, 1)\n",
    "    elif 0 < operating < 1:\n",
    "        operating = np.round(operating, 2)\n",
    "        \n",
    "    # Update the under_development variable.\n",
    "    if under_development >= 10:\n",
    "        under_development = np.round(under_development, 0)\n",
    "    elif 1 <= under_development < 10:\n",
    "        under_development = np.round(under_development, 1)\n",
    "    elif 0 < under_development < 1:\n",
    "        under_development = np.round(under_development, 2)\n",
    "        \n",
    "    # Update the change_in_operating_from_2015 variable.\n",
    "    if change_in_operating_from_2015 >= 10:\n",
    "        change_in_operating_from_2015 = np.round(change_in_operating_from_2015, 0)\n",
    "    elif 1 <= change_in_operating_from_2015 < 10:\n",
    "        change_in_operating_from_2015 = np.round(change_in_operating_from_2015, 1)\n",
    "    elif 0 < change_in_operating_from_2015 < 1:\n",
    "        change_in_operating_from_2015 = np.round(change_in_operating_from_2015, 2)\n",
    "    elif -1 < change_in_operating_from_2015 < 0:\n",
    "        change_in_operating_from_2015 = np.round(change_in_operating_from_2015, 2)\n",
    "    elif -10 < change_in_operating_from_2015 <= -1:\n",
    "        change_in_operating_from_2015 = np.round(change_in_operating_from_2015, 1)\n",
    "    elif -10 >= change_in_operating_from_2015:\n",
    "        change_in_operating_from_2015 = np.round(change_in_operating_from_2015, 0)\n",
    "        \n",
    "    # Get summary variables.\n",
    "    summary_1 = f'<span>{{{{{operating}}}}} GW</span><br>operating coal<br>power capacity'\n",
    "    summary_1_color = \"#bf532c\"\n",
    "    summary_2 = f'<span>{change_text_symbol}{{{{{change_in_operating_from_2015}}}}} GW</span><br>operating coal power <br>capacity from 2015'\n",
    "    summary_2_color = change_text_colour\n",
    "    summary_3 = f'<span>{{{{{under_development}}}}} GW</span><br>coal power capacity<br> under development'\n",
    "    summary_3_color = \"#f27d16\"\n",
    "        \n",
    "    # Update the new dataframe.\n",
    "    gcpt_data_ticker_df.loc[idx, \"Country\"] = country\n",
    "    gcpt_data_ticker_df.loc[idx, \n",
    "        [\n",
    "            \"summary_1\", \n",
    "            \"summary_1_color\", \n",
    "            \"summary_2\", \n",
    "            \"summary_2_color\", \n",
    "            \"summary_3\",\n",
    "            \"summary_3_color\"\n",
    "        ]\n",
    "    ] = [summary_1, summary_1_color, summary_2, summary_2_color, summary_3, summary_3_color]"
   ]
  },
  {
   "cell_type": "code",
   "execution_count": 22,
   "metadata": {},
   "outputs": [
    {
     "name": "stdout",
     "output_type": "stream",
     "text": [
      "Wrote json file to gcpt_h1_2024_data_ticker.json\n"
     ]
    }
   ],
   "source": [
    "pandas_df_to_json(\n",
    "    gcpt_data_ticker_df,\n",
    "    f\"gcpt_{year_filename}_data_ticker.json\"\n",
    ")"
   ]
  },
  {
   "cell_type": "markdown",
   "metadata": {},
   "source": []
  }
 ],
 "metadata": {
  "kernelspec": {
   "display_name": "mentoring",
   "language": "python",
   "name": "python3"
  },
  "language_info": {
   "codemirror_mode": {
    "name": "ipython",
    "version": 3
   },
   "file_extension": ".py",
   "mimetype": "text/x-python",
   "name": "python",
   "nbconvert_exporter": "python",
   "pygments_lexer": "ipython3",
   "version": "3.11.4"
  }
 },
 "nbformat": 4,
 "nbformat_minor": 2
}
