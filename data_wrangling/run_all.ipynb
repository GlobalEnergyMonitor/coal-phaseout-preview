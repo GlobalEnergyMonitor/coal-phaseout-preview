{
 "cells": [
  {
   "cell_type": "code",
   "execution_count": 16,
   "metadata": {},
   "outputs": [],
   "source": [
    "import pandas as pd\n",
    "import json"
   ]
  },
  {
   "cell_type": "code",
   "execution_count": 50,
   "metadata": {},
   "outputs": [],
   "source": [
    "path_to_summary_text_xlsx = \"../example_datasets/summary_text.xlsx\"\n",
    "path_to_cumulative_xlsx = \"../example_datasets/cumulative.xlsx\"\n",
    "path_to_added_retired_xlsx = \"../example_datasets/added_retired.xlsx\"\n",
    "path_to_status_over_time_xlsx = \"../example_datasets/status over time.xlsx\"\n",
    "path_to_age_xlsx = \"../example_datasets/plant age_type.xlsx\"\n",
    "path_to_data_ticker_xlsx = \"../example_datasets/data ticker.xlsx\"\n",
    "\n",
    "\n",
    "project_data_dir = \"../data/dashboards/GCPT\"\n",
    "year_filename = \"h1_2024\"\n",
    "full_year = \"2024\"\n",
    "year_variable = \"H1 2024\""
   ]
  },
  {
   "cell_type": "code",
   "execution_count": 44,
   "metadata": {},
   "outputs": [],
   "source": [
    "# 2. LOADS DATA\n",
    "gcpt_country_summary_text_df_original = pd.read_excel(path_to_summary_text_xlsx)\n",
    "gcpt_cumulative_df_original = pd.read_excel(path_to_cumulative_xlsx)\n",
    "gcpt_added_retired_df_original = pd.read_excel(path_to_added_retired_xlsx)\n",
    "gcpt_status_over_time_df_original = pd.read_excel(path_to_status_over_time_xlsx)\n",
    "gcpt_age_type_df_original = pd.read_excel(path_to_age_xlsx)\n",
    "gcpt_data_ticker_df_original = pd.read_excel(path_to_data_ticker_xlsx)\n"
   ]
  },
  {
   "cell_type": "code",
   "execution_count": 68,
   "metadata": {},
   "outputs": [],
   "source": [
    "# Helpful functions.\n",
    "\n",
    "def pandas_df_to_json(\n",
    "    dataframe: pd.DataFrame,\n",
    "    output_path: str,\n",
    "):\n",
    "    our_json_file = []\n",
    "    for idx, row in dataframe.iterrows():\n",
    "        curr_dict = {}\n",
    "        for column in dataframe.columns:\n",
    "            curr_dict[column] = str(row[column])\n",
    "        \n",
    "        our_json_file.append(curr_dict)\n",
    "    \n",
    "    with open(output_path, \"w\") as output:\n",
    "        json.dump(our_json_file, output, indent=4) \n",
    "        \n",
    "    print(f\"Wrote json file to {output_path}\")\n",
    "    \n",
    "def modify_dataframe(\n",
    "    dataframe: pd.DataFrame\n",
    "):\n",
    "    dataframe.rename({\"Country/Region\": \"Country\"}, axis=1, inplace=True)\n",
    "    dataframe[\"Year\"] = dataframe[\"Year\"].astype(str)\n",
    "    dataframe[\"Year\"] = dataframe[\"Year\"].str.replace(full_year, year_variable)\n",
    "    return dataframe"
   ]
  },
  {
   "cell_type": "code",
   "execution_count": 69,
   "metadata": {},
   "outputs": [
    {
     "name": "stdout",
     "output_type": "stream",
     "text": [
      "Wrote json file to gcpt_h1_2024_summary_text.json\n"
     ]
    }
   ],
   "source": [
    "# 00b_structures_and_exports_summary_text.R\n",
    "\n",
    "gcpt_country_summary_text_df_original = gcpt_country_summary_text_df_original.fillna(\"\")\n",
    "\n",
    "pandas_df_to_json(\n",
    "    gcpt_country_summary_text_df_original,\n",
    "    f\"gcpt_{year_filename}_summary_text.json\"\n",
    ")\n"
   ]
  },
  {
   "cell_type": "code",
   "execution_count": 71,
   "metadata": {},
   "outputs": [
    {
     "name": "stdout",
     "output_type": "stream",
     "text": [
      "Wrote json file to /Users/nicholasabad/Desktop/workspace/christine-projects/prior-gcpt-repo/GCPT-dashboard-v2-main/data_wrangling/gcpt_h1_2024_cumulative.json\n"
     ]
    }
   ],
   "source": [
    "# 01b_structures_and_exports_cumulative_data.R\n",
    "gcpt_cumulative_df_original = modify_dataframe(gcpt_cumulative_df_original)\n",
    "\n",
    "# gcpt_cumulative_df_original.to_excel()\n",
    "\n",
    "pandas_df_to_json(\n",
    "    gcpt_cumulative_df_original,\n",
    "    f\"/Users/nicholasabad/Desktop/workspace/christine-projects/prior-gcpt-repo/GCPT-dashboard-v2-main/data_wrangling/gcpt_{year_filename}_cumulative.json\"\n",
    ")\n",
    "\n",
    "\n"
   ]
  },
  {
   "cell_type": "code",
   "execution_count": 72,
   "metadata": {},
   "outputs": [
    {
     "name": "stdout",
     "output_type": "stream",
     "text": [
      "Wrote json file to /Users/nicholasabad/Desktop/workspace/christine-projects/prior-gcpt-repo/GCPT-dashboard-v2-main/data_wrangling/gcpt_h1_2024_added_retired.json\n"
     ]
    }
   ],
   "source": [
    "# 02b_structures_and_exports_added_retired_data.R\n",
    "\n",
    "gcpt_added_retired_df_original = modify_dataframe(gcpt_added_retired_df_original)\n",
    "\n",
    "pandas_df_to_json(\n",
    "    gcpt_added_retired_df_original,\n",
    "    f\"/Users/nicholasabad/Desktop/workspace/christine-projects/prior-gcpt-repo/GCPT-dashboard-v2-main/data_wrangling/gcpt_{year_filename}_added_retired.json\"\n",
    ")\n"
   ]
  },
  {
   "cell_type": "code",
   "execution_count": 73,
   "metadata": {},
   "outputs": [
    {
     "name": "stdout",
     "output_type": "stream",
     "text": [
      "Wrote json file to /Users/nicholasabad/Desktop/workspace/christine-projects/prior-gcpt-repo/GCPT-dashboard-v2-main/data_wrangling/gcpt_h1_2024_status_over_time.json\n"
     ]
    }
   ],
   "source": [
    "# 03b_structures_and_exports_over_time_data.R\n",
    "gcpt_status_over_time_df_original = modify_dataframe(gcpt_status_over_time_df_original)\n",
    "pandas_df_to_json(\n",
    "    gcpt_status_over_time_df_original,\n",
    "    f\"/Users/nicholasabad/Desktop/workspace/christine-projects/prior-gcpt-repo/GCPT-dashboard-v2-main/data_wrangling/gcpt_{year_filename}_status_over_time.json\"\n",
    ")"
   ]
  },
  {
   "cell_type": "code",
   "execution_count": 74,
   "metadata": {},
   "outputs": [
    {
     "name": "stdout",
     "output_type": "stream",
     "text": [
      "Wrote json file to /Users/nicholasabad/Desktop/workspace/christine-projects/prior-gcpt-repo/GCPT-dashboard-v2-main/data_wrangling/gcpt_h1_2024_age_type.json\n"
     ]
    }
   ],
   "source": [
    "# 04b_structures_and_exports_age_type_data.R\n",
    "\n",
    "gcpt_age_type_df_original.rename({\"Country/Region\": \"Country\"}, axis=1, inplace=True)\n",
    "gcpt_age_type_df_original = gcpt_age_type_df_original.sort_values([\"Country\", \"Age group\"], ascending=False).reset_index(drop=True)\n",
    "\n",
    "pandas_df_to_json(\n",
    "    gcpt_age_type_df_original,\n",
    "    f\"/Users/nicholasabad/Desktop/workspace/christine-projects/prior-gcpt-repo/GCPT-dashboard-v2-main/data_wrangling/gcpt_{year_filename}_age_type.json\"\n",
    ")\n"
   ]
  },
  {
   "cell_type": "code",
   "execution_count": 75,
   "metadata": {},
   "outputs": [
    {
     "data": {
      "text/html": [
       "<div>\n",
       "<style scoped>\n",
       "    .dataframe tbody tr th:only-of-type {\n",
       "        vertical-align: middle;\n",
       "    }\n",
       "\n",
       "    .dataframe tbody tr th {\n",
       "        vertical-align: top;\n",
       "    }\n",
       "\n",
       "    .dataframe thead th {\n",
       "        text-align: right;\n",
       "    }\n",
       "</style>\n",
       "<table border=\"1\" class=\"dataframe\">\n",
       "  <thead>\n",
       "    <tr style=\"text-align: right;\">\n",
       "      <th></th>\n",
       "      <th>Country/Region</th>\n",
       "      <th>operating</th>\n",
       "      <th>under_development</th>\n",
       "      <th>change_in_operating_from_2015</th>\n",
       "    </tr>\n",
       "  </thead>\n",
       "  <tbody>\n",
       "    <tr>\n",
       "      <th>0</th>\n",
       "      <td>Albania</td>\n",
       "      <td>0.0000</td>\n",
       "      <td>0.0000</td>\n",
       "      <td>0.0000</td>\n",
       "    </tr>\n",
       "    <tr>\n",
       "      <th>1</th>\n",
       "      <td>Argentina</td>\n",
       "      <td>0.4950</td>\n",
       "      <td>0.1200</td>\n",
       "      <td>0.1200</td>\n",
       "    </tr>\n",
       "    <tr>\n",
       "      <th>2</th>\n",
       "      <td>Australia</td>\n",
       "      <td>22.4030</td>\n",
       "      <td>0.9450</td>\n",
       "      <td>-5.2940</td>\n",
       "    </tr>\n",
       "    <tr>\n",
       "      <th>3</th>\n",
       "      <td>Austria</td>\n",
       "      <td>0.0000</td>\n",
       "      <td>0.0000</td>\n",
       "      <td>-0.7630</td>\n",
       "    </tr>\n",
       "    <tr>\n",
       "      <th>4</th>\n",
       "      <td>BRICS</td>\n",
       "      <td>1472.0884</td>\n",
       "      <td>528.1718</td>\n",
       "      <td>316.0545</td>\n",
       "    </tr>\n",
       "  </tbody>\n",
       "</table>\n",
       "</div>"
      ],
      "text/plain": [
       "  Country/Region  operating  under_development  change_in_operating_from_2015\n",
       "0        Albania     0.0000             0.0000                         0.0000\n",
       "1      Argentina     0.4950             0.1200                         0.1200\n",
       "2      Australia    22.4030             0.9450                        -5.2940\n",
       "3        Austria     0.0000             0.0000                        -0.7630\n",
       "4          BRICS  1472.0884           528.1718                       316.0545"
      ]
     },
     "execution_count": 75,
     "metadata": {},
     "output_type": "execute_result"
    }
   ],
   "source": [
    "gcpt_data_ticker_df_original.head()"
   ]
  },
  {
   "cell_type": "code",
   "execution_count": 78,
   "metadata": {},
   "outputs": [
    {
     "data": {
      "text/html": [
       "<div>\n",
       "<style scoped>\n",
       "    .dataframe tbody tr th:only-of-type {\n",
       "        vertical-align: middle;\n",
       "    }\n",
       "\n",
       "    .dataframe tbody tr th {\n",
       "        vertical-align: top;\n",
       "    }\n",
       "\n",
       "    .dataframe thead th {\n",
       "        text-align: right;\n",
       "    }\n",
       "</style>\n",
       "<table border=\"1\" class=\"dataframe\">\n",
       "  <thead>\n",
       "    <tr style=\"text-align: right;\">\n",
       "      <th></th>\n",
       "      <th>Country/Region</th>\n",
       "      <th>operating</th>\n",
       "      <th>under_development</th>\n",
       "      <th>change_in_operating_from_2015</th>\n",
       "    </tr>\n",
       "  </thead>\n",
       "  <tbody>\n",
       "  </tbody>\n",
       "</table>\n",
       "</div>"
      ],
      "text/plain": [
       "Empty DataFrame\n",
       "Columns: [Country/Region, operating, under_development, change_in_operating_from_2015]\n",
       "Index: []"
      ]
     },
     "execution_count": 78,
     "metadata": {},
     "output_type": "execute_result"
    }
   ],
   "source": [
    "for idx, row in gcpt_data_ticker_df_original.iterrows():\n",
    "    change_in_operating = row[\"change_in_operating_from_2015\"]\n",
    "    \n",
    "    if change_in_operating > 0:\n",
    "        change_text_colour = \"#761200\"\n",
    "    \n",
    "    # elifs here\n",
    "    \n",
    "    gcpt_data_ticker_df_original.loc[idx, \"change_text_colour\"] = change_text_colour\n",
    "    \n",
    "    \n",
    "    "
   ]
  },
  {
   "cell_type": "markdown",
   "metadata": {},
   "source": []
  }
 ],
 "metadata": {
  "kernelspec": {
   "display_name": "remind-cancer",
   "language": "python",
   "name": "python3"
  },
  "language_info": {
   "codemirror_mode": {
    "name": "ipython",
    "version": 3
   },
   "file_extension": ".py",
   "mimetype": "text/x-python",
   "name": "python",
   "nbconvert_exporter": "python",
   "pygments_lexer": "ipython3",
   "version": "3.11.5"
  }
 },
 "nbformat": 4,
 "nbformat_minor": 2
}
